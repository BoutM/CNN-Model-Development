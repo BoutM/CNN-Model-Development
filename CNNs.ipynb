{
 "cells": [
  {
   "cell_type": "markdown",
   "metadata": {},
   "source": [
    "# Convolutional Neural Networks\n",
    "### Maxime Bouthillier"
   ]
  },
  {
   "cell_type": "markdown",
   "metadata": {},
   "source": [
    "### Importing Libraries"
   ]
  },
  {
   "cell_type": "code",
   "execution_count": 1,
   "metadata": {},
   "outputs": [
    {
     "name": "stderr",
     "output_type": "stream",
     "text": [
      "/Users/maxb/myenv/lib/python3.12/site-packages/ignite/handlers/checkpoint.py:16: DeprecationWarning: `TorchScript` support for functional optimizers is deprecated and will be removed in a future PyTorch release. Consider using the `torch.compile` optimizer instead.\n",
      "  from torch.distributed.optim import ZeroRedundancyOptimizer\n"
     ]
    }
   ],
   "source": [
    "import numpy as np\n",
    "import torch\n",
    "import torch.nn as nn\n",
    "import torch.optim as optim\n",
    "import tensorflow as tf\n",
    "import matplotlib.pyplot as plt\n",
    "import matplotlib.gridspec as gridspec\n",
    "from ignite.handlers import EarlyStopping\n",
    "from torchvision import datasets\n",
    "import torchvision.transforms as transforms\n",
    "from torch.utils.data import Dataset, DataLoader, random_split\n",
    "import torchvision.transforms.v2 as transforms\n",
    "from tqdm import tqdm\n",
    "import time\n",
    "from sklearn.model_selection import StratifiedShuffleSplit\n",
    "\n",
    "# Impoerting data processing functions\n",
    "import ipynb.fs.full.Data_Processing as process"
   ]
  },
  {
   "cell_type": "markdown",
   "metadata": {},
   "source": [
    "# Early Stopping Class"
   ]
  },
  {
   "cell_type": "code",
   "execution_count": 2,
   "metadata": {},
   "outputs": [],
   "source": [
    "class EarlyStopping:\n",
    "    def __init__(self, patience=5):\n",
    "        self.patience = patience\n",
    "        self.best_score = None\n",
    "        self.early_stop = False\n",
    "        self.counter = 0\n",
    "        self.best_model_state = None\n",
    "\n",
    "    def __call__(self, val_loss, model):\n",
    "        score = val_loss\n",
    "\n",
    "        if self.best_score is None:\n",
    "            self.best_score = score\n",
    "            self.best_model_state = model.state_dict()\n",
    "\n",
    "        elif score > self.best_score:\n",
    "            self.counter += 1\n",
    "            \n",
    "            if self.counter >= self.patience:\n",
    "                self.early_stop = True\n",
    "                \n",
    "        else:\n",
    "            self.best_score = score\n",
    "            self.best_model_state = model.state_dict()\n",
    "            self.counter = 0\n",
    "\n",
    "    def reset(self):\n",
    "        self.__init__()\n",
    "\n",
    "    def load_best_model(self, model):\n",
    "        model.load_state_dict(self.best_model_state)"
   ]
  },
  {
   "cell_type": "markdown",
   "metadata": {},
   "source": [
    "# Initial Classifier Architecture"
   ]
  },
  {
   "cell_type": "code",
   "execution_count": 3,
   "metadata": {},
   "outputs": [],
   "source": [
    "macbook = torch.device(\"mps\" if torch.backends.mps.is_available() else \"cpu\")"
   ]
  },
  {
   "cell_type": "code",
   "execution_count": 4,
   "metadata": {},
   "outputs": [
    {
     "data": {
      "text/plain": [
       "ImageClassifier_1(\n",
       "  (conv1): Conv2d(3, 32, kernel_size=(3, 3), stride=(1, 1))\n",
       "  (ReLU): ReLU()\n",
       "  (MaxPool): MaxPool2d(kernel_size=2, stride=1, padding=0, dilation=1, ceil_mode=False)\n",
       "  (conv2): Conv2d(32, 32, kernel_size=(3, 3), stride=(1, 1))\n",
       "  (Flatten): Flatten(start_dim=1, end_dim=-1)\n",
       "  (Linear1): Linear(in_features=21632, out_features=512, bias=True)\n",
       "  (Linear2): Linear(in_features=512, out_features=10, bias=True)\n",
       ")"
      ]
     },
     "execution_count": 4,
     "metadata": {},
     "output_type": "execute_result"
    }
   ],
   "source": [
    "# Model Architecture\n",
    "class ImageClassifier_1(nn.Module):\n",
    "    def __init__(self):\n",
    "        super(ImageClassifier_1, self).__init__()\n",
    "        self.conv1 = nn.Conv2d(in_channels=3, out_channels=32, kernel_size=3, \n",
    "                            stride=1, padding=0)\n",
    "        self.ReLU = nn.ReLU()\n",
    "        self.MaxPool = nn.MaxPool2d(2,1)\n",
    "        self.conv2 = nn.Conv2d(in_channels=32, out_channels=32, kernel_size=3,\n",
    "                            stride=1, padding=0)\n",
    "        self.Flatten = nn.Flatten()\n",
    "        self.Linear1 = nn.Linear(in_features=21632, out_features=512)\n",
    "        self.Linear2 = nn.Linear(in_features=512, out_features=10)\n",
    "\n",
    "    def forward(self, X):\n",
    "        X = self.MaxPool(self.ReLU(self.conv1(X))) # First Convolution Layer\n",
    "        X = self.MaxPool(self.ReLU(self.conv2(X))) # Second Convolution layer\n",
    "        X = self.ReLU(self.Linear1(self.Flatten(X))) # First Linear Layer\n",
    "        X = self.Linear2(X) # Second Linear Layer\n",
    "        return X\n",
    "    \n",
    "model = ImageClassifier_1()\n",
    "model.to(macbook)"
   ]
  },
  {
   "cell_type": "markdown",
   "metadata": {},
   "source": [
    "# Training Functions"
   ]
  },
  {
   "cell_type": "code",
   "execution_count": 5,
   "metadata": {},
   "outputs": [],
   "source": [
    "# Initializing dummy variables\n",
    "optimizer = optim.Adam(model.parameters(), lr=.001)\n",
    "criterion = nn.CrossEntropyLoss()\n",
    "train_loader, val_loader, test_loader = process.data_pipeline(batch_size=64, transform_func=process.transformations)"
   ]
  },
  {
   "cell_type": "markdown",
   "metadata": {},
   "source": [
    "### Training Function"
   ]
  },
  {
   "cell_type": "code",
   "execution_count": 6,
   "metadata": {},
   "outputs": [],
   "source": [
    "# Training Function\n",
    "def train_epoch(progress_bar):\n",
    "\n",
    "    loss = 0\n",
    "    accuracy = 0\n",
    "    samples = 0\n",
    "\n",
    "    for X, Y in progress_bar:\n",
    "        X, Y = X.to(macbook), Y.to(macbook)\n",
    "        optimizer.zero_grad() \n",
    "        size = Y.size(0)\n",
    "        pred=model(X)\n",
    "        batch_loss=criterion(pred, Y)\n",
    "        batch_loss.backward()\n",
    "        optimizer.step()\n",
    "        loss+=batch_loss.item()*size\n",
    "        accuracy += (torch.argmax(pred, dim=1) == Y).sum().item()\n",
    "        samples += size\n",
    "        progress_bar.set_postfix()\n",
    "    \n",
    "    avg_loss= loss/samples\n",
    "    percent = accuracy/samples*100\n",
    "    print(f'    Average Training Loss: {avg_loss:.4f}')\n",
    "    print(f'    Training Accuracy: {percent:.2f}%')\n",
    "    return avg_loss, percent"
   ]
  },
  {
   "cell_type": "markdown",
   "metadata": {},
   "source": [
    "### Validation function"
   ]
  },
  {
   "cell_type": "code",
   "execution_count": 7,
   "metadata": {},
   "outputs": [],
   "source": [
    "def validation():\n",
    "\n",
    "    loss = 0\n",
    "    accuracy = 0\n",
    "    samples = 0\n",
    "\n",
    "    with torch.no_grad():\n",
    "        for X,Y in val_loader:\n",
    "            X, Y = X.to(macbook), Y.to(macbook)\n",
    "            size = Y.size(0)\n",
    "            pred = model(X)\n",
    "            batch_loss = criterion(pred, Y)\n",
    "            loss+=batch_loss.item()*size\n",
    "            accuracy += (torch.argmax(pred, dim=1) == Y).sum().item()\n",
    "            samples += size\n",
    "    \n",
    "    avg_loss = loss/samples\n",
    "    percent = accuracy/samples*100\n",
    "    print(f'    Average Validation Loss: {avg_loss:.4f}')\n",
    "    print(f'    Validation Accuracy: {percent:.2f}%')\n",
    "    return avg_loss, percent"
   ]
  },
  {
   "cell_type": "markdown",
   "metadata": {},
   "source": [
    "### Test Function"
   ]
  },
  {
   "cell_type": "code",
   "execution_count": 8,
   "metadata": {},
   "outputs": [],
   "source": [
    "def accuracy():\n",
    "    \n",
    "    model.eval()\n",
    "    accuracy = 0\n",
    "    samples = 0\n",
    "\n",
    "    with torch.no_grad():\n",
    "        for X,Y in test_loader:\n",
    "            X, Y = X.to(macbook), Y.to(macbook)\n",
    "            size = Y.size(0)\n",
    "            pred = model(X)\n",
    "            accuracy += (torch.argmax(pred, dim=1) == Y).sum().item()\n",
    "            samples += size\n",
    "    \n",
    "    percent = accuracy/samples * 100\n",
    "    print(f\"The Model Accuracy (utilizing the test set) is of {percent:.2f}%\")\n",
    "    return(percent)"
   ]
  },
  {
   "cell_type": "markdown",
   "metadata": {},
   "source": [
    "### Training loop"
   ]
  },
  {
   "cell_type": "code",
   "execution_count": 9,
   "metadata": {},
   "outputs": [],
   "source": [
    "def train_model(num_epochs):\n",
    "\n",
    "    # Initializing Vectors to store variables\n",
    "    t_loss = np.zeros(num_epochs+1)\n",
    "    v_loss = np.zeros(num_epochs+1)\n",
    "    t_accuracy = np.zeros(num_epochs+1)\n",
    "    v_accuracy = np.zeros(num_epochs+1)\n",
    "    \n",
    "    # For loop for Epochs\n",
    "    for epoch in range(num_epochs):\n",
    "\n",
    "        # Training one Epoch\n",
    "        model.train(True)\n",
    "        progress_bar = tqdm(train_loader, desc=f\"EPOCH {epoch+1}\")\n",
    "        t_loss[epoch], t_accuracy[epoch] = train_epoch(progress_bar)\n",
    "\n",
    "        # Validation\n",
    "        model.eval()\n",
    "        v_loss[epoch], v_accuracy[epoch] = validation()\n",
    "\n",
    "        # Early Stopping \n",
    "        early_stopping(v_loss[epoch], model)\n",
    "        print('')\n",
    "        if early_stopping.early_stop: \n",
    "            print(\"Early Stop Enacted\")\n",
    "            t_loss=t_loss[:1+epoch]\n",
    "            v_loss=v_loss[:1+epoch]\n",
    "            t_accuracy=t_accuracy[:1+epoch]\n",
    "            v_accuracy=v_accuracy[:1+epoch]\n",
    "            break\n",
    "\n",
    "    # Loading Best Model and Final Line\n",
    "    early_stopping.load_best_model(model)\n",
    "    return t_loss, v_loss, t_accuracy, v_accuracy"
   ]
  },
  {
   "cell_type": "markdown",
   "metadata": {},
   "source": [
    "# Initial Classifier"
   ]
  },
  {
   "cell_type": "markdown",
   "metadata": {},
   "source": [
    "### Model Training"
   ]
  },
  {
   "cell_type": "code",
   "execution_count": 10,
   "metadata": {},
   "outputs": [
    {
     "name": "stderr",
     "output_type": "stream",
     "text": [
      "EPOCH 1: 100%|██████████| 625/625 [00:15<00:00, 41.40it/s]\n"
     ]
    },
    {
     "name": "stdout",
     "output_type": "stream",
     "text": [
      "    Average Training Loss: 2.1591\n",
      "    Training Accuracy: 20.27%\n",
      "    Average Validation Loss: 1.9840\n",
      "    Validation Accuracy: 27.22%\n",
      "\n"
     ]
    },
    {
     "name": "stderr",
     "output_type": "stream",
     "text": [
      "EPOCH 2: 100%|██████████| 625/625 [00:14<00:00, 42.57it/s]\n"
     ]
    },
    {
     "name": "stdout",
     "output_type": "stream",
     "text": [
      "    Average Training Loss: 1.8917\n",
      "    Training Accuracy: 32.43%\n",
      "    Average Validation Loss: 1.7988\n",
      "    Validation Accuracy: 35.45%\n",
      "\n"
     ]
    },
    {
     "name": "stderr",
     "output_type": "stream",
     "text": [
      "EPOCH 3: 100%|██████████| 625/625 [00:14<00:00, 41.83it/s]\n"
     ]
    },
    {
     "name": "stdout",
     "output_type": "stream",
     "text": [
      "    Average Training Loss: 1.7630\n",
      "    Training Accuracy: 36.84%\n",
      "    Average Validation Loss: 1.7025\n",
      "    Validation Accuracy: 38.76%\n",
      "\n"
     ]
    },
    {
     "name": "stderr",
     "output_type": "stream",
     "text": [
      "EPOCH 4: 100%|██████████| 625/625 [00:15<00:00, 41.44it/s]\n"
     ]
    },
    {
     "name": "stdout",
     "output_type": "stream",
     "text": [
      "    Average Training Loss: 1.6984\n",
      "    Training Accuracy: 39.39%\n",
      "    Average Validation Loss: 1.6722\n",
      "    Validation Accuracy: 40.14%\n",
      "\n"
     ]
    },
    {
     "name": "stderr",
     "output_type": "stream",
     "text": [
      "EPOCH 5: 100%|██████████| 625/625 [00:15<00:00, 41.65it/s]\n"
     ]
    },
    {
     "name": "stdout",
     "output_type": "stream",
     "text": [
      "    Average Training Loss: 1.6437\n",
      "    Training Accuracy: 41.33%\n",
      "    Average Validation Loss: 1.6149\n",
      "    Validation Accuracy: 42.97%\n",
      "\n"
     ]
    },
    {
     "name": "stderr",
     "output_type": "stream",
     "text": [
      "EPOCH 6: 100%|██████████| 625/625 [00:14<00:00, 41.81it/s]\n"
     ]
    },
    {
     "name": "stdout",
     "output_type": "stream",
     "text": [
      "    Average Training Loss: 1.5918\n",
      "    Training Accuracy: 43.25%\n",
      "    Average Validation Loss: 1.5984\n",
      "    Validation Accuracy: 43.59%\n",
      "\n"
     ]
    },
    {
     "name": "stderr",
     "output_type": "stream",
     "text": [
      "EPOCH 7: 100%|██████████| 625/625 [00:14<00:00, 41.81it/s]\n"
     ]
    },
    {
     "name": "stdout",
     "output_type": "stream",
     "text": [
      "    Average Training Loss: 1.5434\n",
      "    Training Accuracy: 45.49%\n",
      "    Average Validation Loss: 1.6185\n",
      "    Validation Accuracy: 42.58%\n",
      "\n"
     ]
    },
    {
     "name": "stderr",
     "output_type": "stream",
     "text": [
      "EPOCH 8: 100%|██████████| 625/625 [00:15<00:00, 40.80it/s]\n"
     ]
    },
    {
     "name": "stdout",
     "output_type": "stream",
     "text": [
      "    Average Training Loss: 1.5033\n",
      "    Training Accuracy: 46.56%\n",
      "    Average Validation Loss: 1.5371\n",
      "    Validation Accuracy: 45.43%\n",
      "\n"
     ]
    },
    {
     "name": "stderr",
     "output_type": "stream",
     "text": [
      "EPOCH 9: 100%|██████████| 625/625 [00:14<00:00, 42.20it/s]\n"
     ]
    },
    {
     "name": "stdout",
     "output_type": "stream",
     "text": [
      "    Average Training Loss: 1.4606\n",
      "    Training Accuracy: 48.04%\n",
      "    Average Validation Loss: 1.5495\n",
      "    Validation Accuracy: 45.55%\n",
      "\n"
     ]
    },
    {
     "name": "stderr",
     "output_type": "stream",
     "text": [
      "EPOCH 10: 100%|██████████| 625/625 [00:14<00:00, 41.91it/s]\n"
     ]
    },
    {
     "name": "stdout",
     "output_type": "stream",
     "text": [
      "    Average Training Loss: 1.4190\n",
      "    Training Accuracy: 49.87%\n",
      "    Average Validation Loss: 1.5190\n",
      "    Validation Accuracy: 46.82%\n",
      "\n"
     ]
    },
    {
     "name": "stderr",
     "output_type": "stream",
     "text": [
      "EPOCH 11: 100%|██████████| 625/625 [00:14<00:00, 42.01it/s]\n"
     ]
    },
    {
     "name": "stdout",
     "output_type": "stream",
     "text": [
      "    Average Training Loss: 1.3898\n",
      "    Training Accuracy: 51.00%\n",
      "    Average Validation Loss: 1.5175\n",
      "    Validation Accuracy: 46.90%\n",
      "\n"
     ]
    },
    {
     "name": "stderr",
     "output_type": "stream",
     "text": [
      "EPOCH 12: 100%|██████████| 625/625 [00:14<00:00, 41.85it/s]\n"
     ]
    },
    {
     "name": "stdout",
     "output_type": "stream",
     "text": [
      "    Average Training Loss: 1.3570\n",
      "    Training Accuracy: 52.10%\n",
      "    Average Validation Loss: 1.5141\n",
      "    Validation Accuracy: 46.92%\n",
      "\n"
     ]
    },
    {
     "name": "stderr",
     "output_type": "stream",
     "text": [
      "EPOCH 13: 100%|██████████| 625/625 [00:14<00:00, 42.11it/s]\n"
     ]
    },
    {
     "name": "stdout",
     "output_type": "stream",
     "text": [
      "    Average Training Loss: 1.3321\n",
      "    Training Accuracy: 52.63%\n",
      "    Average Validation Loss: 1.5222\n",
      "    Validation Accuracy: 47.70%\n",
      "\n"
     ]
    },
    {
     "name": "stderr",
     "output_type": "stream",
     "text": [
      "EPOCH 14: 100%|██████████| 625/625 [00:14<00:00, 42.18it/s]\n"
     ]
    },
    {
     "name": "stdout",
     "output_type": "stream",
     "text": [
      "    Average Training Loss: 1.3002\n",
      "    Training Accuracy: 54.20%\n",
      "    Average Validation Loss: 1.5172\n",
      "    Validation Accuracy: 47.60%\n",
      "\n"
     ]
    },
    {
     "name": "stderr",
     "output_type": "stream",
     "text": [
      "EPOCH 15: 100%|██████████| 625/625 [00:14<00:00, 41.90it/s]\n"
     ]
    },
    {
     "name": "stdout",
     "output_type": "stream",
     "text": [
      "    Average Training Loss: 1.2674\n",
      "    Training Accuracy: 55.38%\n",
      "    Average Validation Loss: 1.5591\n",
      "    Validation Accuracy: 46.73%\n",
      "\n"
     ]
    },
    {
     "name": "stderr",
     "output_type": "stream",
     "text": [
      "EPOCH 16: 100%|██████████| 625/625 [00:14<00:00, 42.14it/s]\n"
     ]
    },
    {
     "name": "stdout",
     "output_type": "stream",
     "text": [
      "    Average Training Loss: 1.2495\n",
      "    Training Accuracy: 56.08%\n",
      "    Average Validation Loss: 1.5293\n",
      "    Validation Accuracy: 47.18%\n",
      "\n"
     ]
    },
    {
     "name": "stderr",
     "output_type": "stream",
     "text": [
      "EPOCH 17: 100%|██████████| 625/625 [00:14<00:00, 42.05it/s]\n"
     ]
    },
    {
     "name": "stdout",
     "output_type": "stream",
     "text": [
      "    Average Training Loss: 1.2229\n",
      "    Training Accuracy: 57.10%\n",
      "    Average Validation Loss: 1.5443\n",
      "    Validation Accuracy: 47.70%\n",
      "\n",
      "Early Stop Enacted\n"
     ]
    }
   ],
   "source": [
    "# Loading Model\n",
    "model = ImageClassifier_1()\n",
    "model.to(macbook)\n",
    "\n",
    "\n",
    "# Loss Function\n",
    "criterion = nn.CrossEntropyLoss()\n",
    "\n",
    "\n",
    "# Hyper-Paramaters\n",
    "num_epochs = 30\n",
    "learning_rate = .001\n",
    "\n",
    "\n",
    "# Optimizer\n",
    "optimizer = optim.Adam(model.parameters(), lr=learning_rate)\n",
    "\n",
    "\n",
    "# Early stopping\n",
    "early_stopping = EarlyStopping(patience=5)\n",
    "\n",
    "\n",
    "# Data\n",
    "train_loader, val_loader, test_loader = process.data_pipeline(batch_size=64, transform_func=process.transformations)\n",
    "\n",
    "\n",
    "# Training\n",
    "t_loss, v_loss, t_accuracy, v_accuracy = train_model(num_epochs)"
   ]
  },
  {
   "cell_type": "markdown",
   "metadata": {},
   "source": [
    "### Model 1 Results"
   ]
  },
  {
   "cell_type": "code",
   "execution_count": 11,
   "metadata": {},
   "outputs": [
    {
     "name": "stdout",
     "output_type": "stream",
     "text": [
      "The Model Accuracy (utilizing the test set) is of 47.01%\n"
     ]
    },
    {
     "data": {
      "image/png": "[encoded data removed]",
      "text/plain": [
       "<Figure size 800x800 with 2 Axes>"
      ]
     },
     "metadata": {},
     "output_type": "display_data"
    }
   ],
   "source": [
    "model1_acc = accuracy()\n",
    "\n",
    "# Plotting the Figure\n",
    "fig, ax = plt.subplots(2, figsize=(8, 8))\n",
    "fig.suptitle(\"Initial Model Performance\")\n",
    "\n",
    "ax[0].plot(range(1,len(v_loss)+1), v_loss, label=\"Validation Loss\", linestyle=\"-\")\n",
    "ax[0].plot(range(1,len(t_loss)+1), t_loss, label=\"Training Loss\", linestyle=\"-\")\n",
    "\n",
    "ax[0].set_ylabel(\"Average Loss per Epoch\")\n",
    "ax[0].set_xlabel(\"Epoch\")\n",
    "ax[0].legend()\n",
    "\n",
    "ax[1].plot(range(1,len(v_accuracy)+1), v_accuracy, label=\"Validation Accuracy\", linestyle=\"-\")\n",
    "ax[1].plot(range(1,len(t_accuracy)+1), t_accuracy, label=\"Training Accuracy\", linestyle=\"-\")\n",
    "\n",
    "ax[1].set_ylabel(\"Accuracy\")\n",
    "ax[1].set_xlabel(\"Epoch\")\n",
    "ax[1].legend()\n",
    "\n",
    "plt.style.use('bmh')\n",
    "plt.show()"
   ]
  },
  {
   "cell_type": "markdown",
   "metadata": {},
   "source": [
    "# Increasing Depth"
   ]
  },
  {
   "cell_type": "markdown",
   "metadata": {},
   "source": [
    "### Deep Model Architecture"
   ]
  },
  {
   "cell_type": "code",
   "execution_count": 35,
   "metadata": {},
   "outputs": [
    {
     "data": {
      "text/plain": [
       "ImageClassifier_2(\n",
       "  (conv1): Conv2d(3, 32, kernel_size=(3, 3), stride=(1, 1))\n",
       "  (ReLU): ReLU()\n",
       "  (MaxPool): MaxPool2d(kernel_size=2, stride=1, padding=0, dilation=1, ceil_mode=False)\n",
       "  (conv2): Conv2d(32, 32, kernel_size=(3, 3), stride=(1, 1))\n",
       "  (conv3): Conv2d(32, 64, kernel_size=(3, 3), stride=(1, 1))\n",
       "  (conv4): Conv2d(64, 64, kernel_size=(3, 3), stride=(1, 1))\n",
       "  (Flatten): Flatten(start_dim=1, end_dim=-1)\n",
       "  (Linear1): Linear(in_features=25600, out_features=512, bias=True)\n",
       "  (Linear2): Linear(in_features=512, out_features=10, bias=True)\n",
       ")"
      ]
     },
     "execution_count": 35,
     "metadata": {},
     "output_type": "execute_result"
    }
   ],
   "source": [
    "# Creation of the Increased Model Depth\n",
    "class ImageClassifier_2(nn.Module):\n",
    "    def __init__(self):\n",
    "        super(ImageClassifier_2, self).__init__()\n",
    "        self.conv1 = nn.Conv2d(in_channels=3, out_channels=32, kernel_size=3, stride=1, padding=0)\n",
    "        self.ReLU = nn.ReLU()\n",
    "        self.MaxPool = nn.MaxPool2d(2,1)\n",
    "        self.conv2 = nn.Conv2d(in_channels=32, out_channels=32, kernel_size=3, stride=1, padding=0)\n",
    "        self.conv3 = nn.Conv2d(in_channels=32, out_channels=64, kernel_size=3, stride=1, padding=0)\n",
    "        self.conv4 = nn.Conv2d(in_channels=64, out_channels=64, kernel_size=3, stride=1, padding=0)\n",
    "        self.Flatten = nn.Flatten()\n",
    "        self.Linear1 = nn.Linear(in_features=64*400, out_features=512)\n",
    "        self.Linear2 = nn.Linear(in_features=512, out_features=10)\n",
    "\n",
    "    def forward(self, X):\n",
    "        X = self.MaxPool(self.ReLU(self.conv1(X)))  # First Convolution Layer\n",
    "        X = self.MaxPool(self.ReLU(self.conv2(X)))  # Second Convolution layer\n",
    "        X = self.MaxPool(self.ReLU(self.conv3(X)))  # Third Convolution Layer\n",
    "        X = self.MaxPool(self.ReLU(self.conv4(X)))  # Third Convolution Layer\n",
    "        X = self.Linear1(self.Flatten(X))           # First Linear Layer\n",
    "        X = self.Linear2(self.ReLU(X))              # Second Linear Layer\n",
    "        return X\n",
    "    \n",
    "model = ImageClassifier_2()\n",
    "model.to(macbook)"
   ]
  },
  {
   "cell_type": "markdown",
   "metadata": {},
   "source": [
    "### Parameters and Training"
   ]
  },
  {
   "cell_type": "code",
   "execution_count": 36,
   "metadata": {},
   "outputs": [
    {
     "name": "stdout",
     "output_type": "stream",
     "text": [
      "Files already downloaded and verified\n",
      "Files already downloaded and verified\n"
     ]
    },
    {
     "name": "stderr",
     "output_type": "stream",
     "text": [
      "/Users/maxb/myenv/lib/python3.12/site-packages/torchvision/transforms/v2/_deprecated.py:42: UserWarning: The transform `ToTensor()` is deprecated and will be removed in a future release. Instead, please use `v2.Compose([v2.ToImage(), v2.ToDtype(torch.float32, scale=True)])`.Output is equivalent up to float precision.\n",
      "  warnings.warn(\n",
      "EPOCH 1: 100%|██████████| 625/625 [00:19<00:00, 32.78it/s]\n"
     ]
    },
    {
     "name": "stdout",
     "output_type": "stream",
     "text": [
      "    Average Training Loss: 2.1278\n",
      "    Training Accuracy: 21.34%\n",
      "    Average Validation Loss: 2.0738\n",
      "    Validation Accuracy: 23.87%\n",
      "\n"
     ]
    },
    {
     "name": "stderr",
     "output_type": "stream",
     "text": [
      "EPOCH 2: 100%|██████████| 625/625 [00:18<00:00, 32.90it/s]\n"
     ]
    },
    {
     "name": "stdout",
     "output_type": "stream",
     "text": [
      "    Average Training Loss: 1.8990\n",
      "    Training Accuracy: 31.23%\n",
      "    Average Validation Loss: 1.7599\n",
      "    Validation Accuracy: 36.77%\n",
      "\n"
     ]
    },
    {
     "name": "stderr",
     "output_type": "stream",
     "text": [
      "EPOCH 3: 100%|██████████| 625/625 [00:19<00:00, 32.88it/s]\n"
     ]
    },
    {
     "name": "stdout",
     "output_type": "stream",
     "text": [
      "    Average Training Loss: 1.7228\n",
      "    Training Accuracy: 38.25%\n",
      "    Average Validation Loss: 1.6314\n",
      "    Validation Accuracy: 41.46%\n",
      "\n"
     ]
    },
    {
     "name": "stderr",
     "output_type": "stream",
     "text": [
      "EPOCH 4: 100%|██████████| 625/625 [00:18<00:00, 33.29it/s]\n"
     ]
    },
    {
     "name": "stdout",
     "output_type": "stream",
     "text": [
      "    Average Training Loss: 1.6236\n",
      "    Training Accuracy: 41.84%\n",
      "    Average Validation Loss: 1.5660\n",
      "    Validation Accuracy: 44.20%\n",
      "\n"
     ]
    },
    {
     "name": "stderr",
     "output_type": "stream",
     "text": [
      "EPOCH 5: 100%|██████████| 625/625 [00:18<00:00, 32.95it/s]\n"
     ]
    },
    {
     "name": "stdout",
     "output_type": "stream",
     "text": [
      "    Average Training Loss: 1.5398\n",
      "    Training Accuracy: 45.21%\n",
      "    Average Validation Loss: 1.5340\n",
      "    Validation Accuracy: 45.68%\n",
      "\n"
     ]
    },
    {
     "name": "stderr",
     "output_type": "stream",
     "text": [
      "EPOCH 6: 100%|██████████| 625/625 [00:18<00:00, 33.19it/s]\n"
     ]
    },
    {
     "name": "stdout",
     "output_type": "stream",
     "text": [
      "    Average Training Loss: 1.4812\n",
      "    Training Accuracy: 47.41%\n",
      "    Average Validation Loss: 1.5135\n",
      "    Validation Accuracy: 46.77%\n",
      "\n"
     ]
    },
    {
     "name": "stderr",
     "output_type": "stream",
     "text": [
      "EPOCH 7: 100%|██████████| 625/625 [00:18<00:00, 33.38it/s]\n"
     ]
    },
    {
     "name": "stdout",
     "output_type": "stream",
     "text": [
      "    Average Training Loss: 1.4360\n",
      "    Training Accuracy: 49.37%\n",
      "    Average Validation Loss: 1.4987\n",
      "    Validation Accuracy: 46.85%\n",
      "\n"
     ]
    },
    {
     "name": "stderr",
     "output_type": "stream",
     "text": [
      "EPOCH 8: 100%|██████████| 625/625 [00:18<00:00, 33.39it/s]\n"
     ]
    },
    {
     "name": "stdout",
     "output_type": "stream",
     "text": [
      "    Average Training Loss: 1.3856\n",
      "    Training Accuracy: 50.88%\n",
      "    Average Validation Loss: 1.4202\n",
      "    Validation Accuracy: 50.03%\n",
      "\n"
     ]
    },
    {
     "name": "stderr",
     "output_type": "stream",
     "text": [
      "EPOCH 9: 100%|██████████| 625/625 [00:19<00:00, 32.86it/s]\n"
     ]
    },
    {
     "name": "stdout",
     "output_type": "stream",
     "text": [
      "    Average Training Loss: 1.3417\n",
      "    Training Accuracy: 52.76%\n",
      "    Average Validation Loss: 1.4288\n",
      "    Validation Accuracy: 49.73%\n",
      "\n"
     ]
    },
    {
     "name": "stderr",
     "output_type": "stream",
     "text": [
      "EPOCH 10: 100%|██████████| 625/625 [00:18<00:00, 33.07it/s]\n"
     ]
    },
    {
     "name": "stdout",
     "output_type": "stream",
     "text": [
      "    Average Training Loss: 1.2984\n",
      "    Training Accuracy: 54.07%\n",
      "    Average Validation Loss: 1.4208\n",
      "    Validation Accuracy: 50.32%\n",
      "\n"
     ]
    },
    {
     "name": "stderr",
     "output_type": "stream",
     "text": [
      "EPOCH 11: 100%|██████████| 625/625 [00:18<00:00, 33.17it/s]\n"
     ]
    },
    {
     "name": "stdout",
     "output_type": "stream",
     "text": [
      "    Average Training Loss: 1.2601\n",
      "    Training Accuracy: 55.53%\n",
      "    Average Validation Loss: 1.4565\n",
      "    Validation Accuracy: 49.66%\n",
      "\n"
     ]
    },
    {
     "name": "stderr",
     "output_type": "stream",
     "text": [
      "EPOCH 12: 100%|██████████| 625/625 [00:18<00:00, 32.91it/s]\n"
     ]
    },
    {
     "name": "stdout",
     "output_type": "stream",
     "text": [
      "    Average Training Loss: 1.2201\n",
      "    Training Accuracy: 57.08%\n",
      "    Average Validation Loss: 1.4133\n",
      "    Validation Accuracy: 50.96%\n",
      "\n"
     ]
    },
    {
     "name": "stderr",
     "output_type": "stream",
     "text": [
      "EPOCH 13: 100%|██████████| 625/625 [00:18<00:00, 33.06it/s]\n"
     ]
    },
    {
     "name": "stdout",
     "output_type": "stream",
     "text": [
      "    Average Training Loss: 1.1906\n",
      "    Training Accuracy: 58.46%\n",
      "    Average Validation Loss: 1.4382\n",
      "    Validation Accuracy: 51.24%\n",
      "\n"
     ]
    },
    {
     "name": "stderr",
     "output_type": "stream",
     "text": [
      "EPOCH 14: 100%|██████████| 625/625 [00:18<00:00, 33.18it/s]\n"
     ]
    },
    {
     "name": "stdout",
     "output_type": "stream",
     "text": [
      "    Average Training Loss: 1.1528\n",
      "    Training Accuracy: 59.64%\n",
      "    Average Validation Loss: 1.4346\n",
      "    Validation Accuracy: 50.22%\n",
      "\n"
     ]
    },
    {
     "name": "stderr",
     "output_type": "stream",
     "text": [
      "EPOCH 15: 100%|██████████| 625/625 [00:18<00:00, 33.10it/s]\n"
     ]
    },
    {
     "name": "stdout",
     "output_type": "stream",
     "text": [
      "    Average Training Loss: 1.1180\n",
      "    Training Accuracy: 60.70%\n",
      "    Average Validation Loss: 1.4638\n",
      "    Validation Accuracy: 50.83%\n",
      "\n"
     ]
    },
    {
     "name": "stderr",
     "output_type": "stream",
     "text": [
      "EPOCH 16: 100%|██████████| 625/625 [00:18<00:00, 33.62it/s]\n"
     ]
    },
    {
     "name": "stdout",
     "output_type": "stream",
     "text": [
      "    Average Training Loss: 1.0911\n",
      "    Training Accuracy: 61.94%\n",
      "    Average Validation Loss: 1.4720\n",
      "    Validation Accuracy: 50.61%\n",
      "\n"
     ]
    },
    {
     "name": "stderr",
     "output_type": "stream",
     "text": [
      "EPOCH 17: 100%|██████████| 625/625 [00:18<00:00, 33.61it/s]\n"
     ]
    },
    {
     "name": "stdout",
     "output_type": "stream",
     "text": [
      "    Average Training Loss: 1.0533\n",
      "    Training Accuracy: 63.37%\n",
      "    Average Validation Loss: 1.4701\n",
      "    Validation Accuracy: 51.19%\n",
      "\n",
      "Early Stop Enacted\n"
     ]
    }
   ],
   "source": [
    "max_epochs = 30\n",
    "learning_rate = .001\n",
    "\n",
    "criterion = nn.CrossEntropyLoss()\n",
    "optimizer = optim.Adam(model.parameters(), lr=learning_rate)\n",
    "early_stopping = EarlyStopping(patience=5)\n",
    "\n",
    "# Loading Data\n",
    "train_loader, val_loader, test_loader = process.data_pipeline(batch_size=64, transform_func=process.transformations)\n",
    "\n",
    "# Training\n",
    "t_loss2, v_loss2, t_accuracy2, v_accuracy2 = train_model(max_epochs)"
   ]
  },
  {
   "cell_type": "code",
   "execution_count": 37,
   "metadata": {},
   "outputs": [
    {
     "name": "stdout",
     "output_type": "stream",
     "text": [
      "The Model Accuracy (utilizing the test set) is of 50.10%\n"
     ]
    },
    {
     "data": {
      "image/png": "[encoded data removed]",
      "text/plain": [
       "<Figure size 800x800 with 2 Axes>"
      ]
     },
     "metadata": {},
     "output_type": "display_data"
    }
   ],
   "source": [
    "model2_acc = accuracy()\n",
    "\n",
    "# Plotting the Figure\n",
    "fig, ax = plt.subplots(2, figsize=(8, 8))\n",
    "fig.suptitle(\"Initial Model Performance\")\n",
    "\n",
    "ax[0].plot(range(1,len(v_loss)+1), v_loss, label=\"Validation Loss\", linestyle=\"-\")\n",
    "ax[0].plot(range(1,len(t_loss)+1), t_loss, label=\"Training Loss\", linestyle=\"-\")\n",
    "\n",
    "ax[0].set_ylabel(\"Average Loss per Epoch\")\n",
    "ax[0].set_xlabel(\"Epoch\")\n",
    "ax[0].legend()\n",
    "\n",
    "ax[1].plot(range(1,len(v_accuracy)+1), v_accuracy, label=\"Validation Accuracy\", linestyle=\"-\")\n",
    "ax[1].plot(range(1,len(t_accuracy)+1), t_accuracy, label=\"Training Accuracy\", linestyle=\"-\")\n",
    "\n",
    "ax[1].set_ylabel(\"Accuracy\")\n",
    "ax[1].set_xlabel(\"Epoch\")\n",
    "ax[1].legend()\n",
    "\n",
    "plt.style.use('bmh')\n",
    "plt.show()"
   ]
  },
  {
   "cell_type": "markdown",
   "metadata": {},
   "source": [
    "# Batch Normalization Model"
   ]
  },
  {
   "cell_type": "markdown",
   "metadata": {},
   "source": [
    "### Batch-Norm Atchitecture"
   ]
  },
  {
   "cell_type": "code",
   "execution_count": 38,
   "metadata": {},
   "outputs": [
    {
     "data": {
      "text/plain": [
       "ImageClassifier_3(\n",
       "  (conv1): Conv2d(3, 32, kernel_size=(3, 3), stride=(1, 1))\n",
       "  (ReLU): ReLU()\n",
       "  (MaxPool): MaxPool2d(kernel_size=2, stride=1, padding=0, dilation=1, ceil_mode=False)\n",
       "  (conv2): Conv2d(32, 32, kernel_size=(3, 3), stride=(1, 1))\n",
       "  (conv3): Conv2d(32, 64, kernel_size=(3, 3), stride=(1, 1))\n",
       "  (conv4): Conv2d(64, 64, kernel_size=(3, 3), stride=(1, 1))\n",
       "  (Batch32): BatchNorm2d(32, eps=1e-05, momentum=0.1, affine=True, track_running_stats=True)\n",
       "  (Batch64): BatchNorm2d(64, eps=1e-05, momentum=0.1, affine=True, track_running_stats=True)\n",
       "  (Flatten): Flatten(start_dim=1, end_dim=-1)\n",
       "  (Linear1): Linear(in_features=25600, out_features=512, bias=True)\n",
       "  (Linear2): Linear(in_features=512, out_features=10, bias=True)\n",
       ")"
      ]
     },
     "execution_count": 38,
     "metadata": {},
     "output_type": "execute_result"
    }
   ],
   "source": [
    "class ImageClassifier_3(nn.Module):\n",
    "    def __init__(self):\n",
    "        super(ImageClassifier_3, self).__init__()\n",
    "        self.conv1 = nn.Conv2d(in_channels=3, out_channels=32, kernel_size=3, stride=1, padding=0)\n",
    "        self.ReLU = nn.ReLU()\n",
    "        self.MaxPool = nn.MaxPool2d(2,1)\n",
    "        self.conv2 = nn.Conv2d(in_channels=32, out_channels=32, kernel_size=3, stride=1, padding=0)\n",
    "        self.conv3 = nn.Conv2d(in_channels=32, out_channels=64, kernel_size=3, stride=1, padding=0)\n",
    "        self.conv4 = nn.Conv2d(in_channels=64, out_channels=64, kernel_size=3, stride=1, padding=0)\n",
    "        self.Batch32 = nn.BatchNorm2d(32)\n",
    "        self.Batch64 = nn.BatchNorm2d(64)\n",
    "        self.Flatten = nn.Flatten()\n",
    "        self.Linear1 = nn.Linear(in_features=64*400, out_features=512)\n",
    "        self.Linear2 = nn.Linear(in_features=512, out_features=10)\n",
    "\n",
    "    def forward(self, X):\n",
    "        X = self.MaxPool(self.ReLU(self.conv1(X)))                # First Convolution Layer\n",
    "        X = self.Batch32(X)                                       # Batch Normalization\n",
    "        X = self.MaxPool(self.ReLU(self.conv2(X)))                # Second Convolution layer\n",
    "        X = self.Batch32(X)                                       # Batch Normalization\n",
    "        X = self.MaxPool(self.ReLU(self.conv3(X)))                # Third Convolution Layer\n",
    "        X = self.Batch64(X)                                       # Batch Normalization\n",
    "        X = self.MaxPool(self.ReLU(self.conv4(X)))                # Third Convolution Layer\n",
    "        X = self.Batch64(X)                                       # Batch Normalization\n",
    "        X = self.Linear1(self.Flatten(X))                         # First Linear Layer\n",
    "        X = self.Linear2(self.ReLU(X))                            # Second Linear Layer\n",
    "        return X\n",
    "    \n",
    "model = ImageClassifier_3()\n",
    "model.to(macbook)"
   ]
  },
  {
   "cell_type": "markdown",
   "metadata": {},
   "source": [
    "### Parameters and Training"
   ]
  },
  {
   "cell_type": "code",
   "execution_count": 39,
   "metadata": {},
   "outputs": [
    {
     "name": "stdout",
     "output_type": "stream",
     "text": [
      "Files already downloaded and verified\n",
      "Files already downloaded and verified\n"
     ]
    },
    {
     "name": "stderr",
     "output_type": "stream",
     "text": [
      "/Users/maxb/myenv/lib/python3.12/site-packages/torchvision/transforms/v2/_deprecated.py:42: UserWarning: The transform `ToTensor()` is deprecated and will be removed in a future release. Instead, please use `v2.Compose([v2.ToImage(), v2.ToDtype(torch.float32, scale=True)])`.Output is equivalent up to float precision.\n",
      "  warnings.warn(\n",
      "EPOCH 1: 100%|██████████| 625/625 [00:19<00:00, 31.39it/s]\n"
     ]
    },
    {
     "name": "stdout",
     "output_type": "stream",
     "text": [
      "    Average Training Loss: 2.0499\n",
      "    Training Accuracy: 31.37%\n",
      "    Average Validation Loss: 2.7210\n",
      "    Validation Accuracy: 12.84%\n",
      "\n"
     ]
    },
    {
     "name": "stderr",
     "output_type": "stream",
     "text": [
      "EPOCH 2: 100%|██████████| 625/625 [00:18<00:00, 34.24it/s]\n"
     ]
    },
    {
     "name": "stdout",
     "output_type": "stream",
     "text": [
      "    Average Training Loss: 1.6522\n",
      "    Training Accuracy: 40.92%\n",
      "    Average Validation Loss: 6.7494\n",
      "    Validation Accuracy: 10.02%\n",
      "\n"
     ]
    },
    {
     "name": "stderr",
     "output_type": "stream",
     "text": [
      "EPOCH 3: 100%|██████████| 625/625 [00:18<00:00, 33.92it/s]\n"
     ]
    },
    {
     "name": "stdout",
     "output_type": "stream",
     "text": [
      "    Average Training Loss: 1.5304\n",
      "    Training Accuracy: 45.68%\n",
      "    Average Validation Loss: 5.9011\n",
      "    Validation Accuracy: 9.94%\n",
      "\n"
     ]
    },
    {
     "name": "stderr",
     "output_type": "stream",
     "text": [
      "EPOCH 4: 100%|██████████| 625/625 [00:18<00:00, 33.70it/s]\n"
     ]
    },
    {
     "name": "stdout",
     "output_type": "stream",
     "text": [
      "    Average Training Loss: 1.4335\n",
      "    Training Accuracy: 49.41%\n",
      "    Average Validation Loss: 7.1080\n",
      "    Validation Accuracy: 10.81%\n",
      "\n"
     ]
    },
    {
     "name": "stderr",
     "output_type": "stream",
     "text": [
      "EPOCH 5: 100%|██████████| 625/625 [00:18<00:00, 33.64it/s]\n"
     ]
    },
    {
     "name": "stdout",
     "output_type": "stream",
     "text": [
      "    Average Training Loss: 1.3498\n",
      "    Training Accuracy: 52.31%\n",
      "    Average Validation Loss: 6.6973\n",
      "    Validation Accuracy: 14.71%\n",
      "\n"
     ]
    },
    {
     "name": "stderr",
     "output_type": "stream",
     "text": [
      "EPOCH 6: 100%|██████████| 625/625 [00:18<00:00, 33.34it/s]\n"
     ]
    },
    {
     "name": "stdout",
     "output_type": "stream",
     "text": [
      "    Average Training Loss: 1.2692\n",
      "    Training Accuracy: 55.16%\n",
      "    Average Validation Loss: 10.7919\n",
      "    Validation Accuracy: 12.40%\n",
      "\n",
      "Early Stop Enacted\n"
     ]
    }
   ],
   "source": [
    "max_epochs = 30\n",
    "learning_rate = .001\n",
    "\n",
    "criterion = nn.CrossEntropyLoss()\n",
    "optimizer = optim.Adam(model.parameters(), lr=learning_rate)\n",
    "early_stopping = EarlyStopping(patience=5)\n",
    "\n",
    "# Loading Data\n",
    "train_loader, val_loader, test_loader = process.data_pipeline(batch_size=64, transform_func=process.transformations)\n",
    "\n",
    "# Training\n",
    "t_loss3, v_loss3, t_accuracy3, v_accuracy3 = train_model(max_epochs)"
   ]
  }
 ],
 "metadata": {
  "kernelspec": {
   "display_name": "myenv",
   "language": "python",
   "name": "python3"
  },
  "language_info": {
   "codemirror_mode": {
    "name": "ipython",
    "version": 3
   },
   "file_extension": ".py",
   "mimetype": "text/x-python",
   "name": "python",
   "nbconvert_exporter": "python",
   "pygments_lexer": "ipython3",
   "version": "3.12.6"
  }
 },
 "nbformat": 4,
 "nbformat_minor": 2
}
