{
 "cells": [
  {
   "cell_type": "markdown",
   "metadata": {},
   "source": [
    "# Data Processing | CIFAR-10 Dataset"
   ]
  },
  {
   "cell_type": "code",
   "execution_count": 11,
   "metadata": {},
   "outputs": [],
   "source": [
    "import numpy as np\n",
    "import torch\n",
    "from torchvision import datasets\n",
    "import torchvision.transforms as transforms\n",
    "from torch.utils.data import Dataset, DataLoader\n",
    "import torchvision.transforms.v2 as v2"
   ]
  },
  {
   "cell_type": "markdown",
   "metadata": {},
   "source": [
    "### Loading Data"
   ]
  },
  {
   "cell_type": "code",
   "execution_count": null,
   "metadata": {},
   "outputs": [
    {
     "name": "stdout",
     "output_type": "stream",
     "text": [
      "Files already downloaded and verified\n",
      "Files already downloaded and verified\n"
     ]
    }
   ],
   "source": [
    "# Loading dataset\n",
    "def load_data():\n",
    "    train_dataset = datasets.CIFAR10(root='./data', train=True, download=True)\n",
    "    test_dataset = datasets.CIFAR10(root='./data', train=False, download=True)\n",
    "\n",
    "    return train_dataset, test_dataset"
   ]
  },
  {
   "cell_type": "markdown",
   "metadata": {},
   "source": [
    "### Normalization"
   ]
  },
  {
   "cell_type": "code",
   "execution_count": 13,
   "metadata": {},
   "outputs": [],
   "source": [
    "def RGB_stats(X):\n",
    "\n",
    "    '''\n",
    "    This function will return the mean and standard deveations of\n",
    "    each RGB panel.\n",
    "    '''\n",
    "    mu = np.mean(X, axis=(0, 1, 2))\n",
    "    sigma = np.std(X, axis=(0, 1, 2))\n",
    "\n",
    "    return mu, sigma"
   ]
  },
  {
   "cell_type": "markdown",
   "metadata": {},
   "source": [
    "### Data Splitting and Loaders"
   ]
  },
  {
   "cell_type": "code",
   "execution_count": 14,
   "metadata": {},
   "outputs": [],
   "source": [
    "def split_data(dataset, train_ratio=0.8):\n",
    "\n",
    "    '''Function will split the given dataset into a train set and test set'''\n",
    "\n",
    "    train_size = int(train_ratio * len(dataset.targets))\n",
    "    val_size = len(dataset.targets) - train_size\n",
    "    idx = torch.randperm(len(dataset.targets)).tolist()\n",
    "\n",
    "    x_train, y_train = [dataset.data[i] for i in idx[:train_size]], [dataset.targets[i] for i in idx[:train_size]]\n",
    "    x_val, y_val = [dataset.data[i] for i in idx[train_size:]], [dataset.targets[i] for i in idx[train_size:]]\n",
    "    \n",
    "    return x_train, y_train, x_val, y_val"
   ]
  },
  {
   "cell_type": "code",
   "execution_count": 15,
   "metadata": {},
   "outputs": [],
   "source": [
    "def dataloaders(train_dataset, val_dataset, test_dataset, batch_size=32):\n",
    "\n",
    "    '''Returns dataloaders for the given datasets'''\n",
    "\n",
    "    train_loader = DataLoader(train_dataset, batch_size=batch_size, shuffle=True)\n",
    "    val_loader = DataLoader(val_dataset, batch_size=batch_size, shuffle=False)\n",
    "    test_loader = DataLoader(test_dataset, batch_size=batch_size, shuffle=False)\n",
    "\n",
    "    return train_loader, val_loader, test_loader"
   ]
  },
  {
   "cell_type": "markdown",
   "metadata": {},
   "source": [
    "### Transformations"
   ]
  },
  {
   "cell_type": "code",
   "execution_count": 16,
   "metadata": {},
   "outputs": [],
   "source": [
    "def transformations(mu, stdev):\n",
    "\n",
    "    '''Returns the desired transformations required in the processing phase. Please note that \n",
    "    test_transform does not include any data augmentation'''\n",
    "\n",
    "    transform = v2.Compose([\n",
    "        # transforms.RandomApply([transforms.GaussianNoise(sigma=1)], p=0.2),\n",
    "        transforms.RandomHorizontalFlip(0.5),\n",
    "        transforms.RandomRotation(degrees=(-10,10)),\n",
    "        transforms.Normalize(mean=mu, std=stdev),\n",
    "        transforms.ToPILImage(),\n",
    "        transforms.ToTensor(),\n",
    "    ])\n",
    "\n",
    "    test_transform = transforms.Compose([\n",
    "        transforms.Normalize(mean=mu, std=stdev),\n",
    "        transforms.ToPILImage(),\n",
    "        transforms.ToTensor(), \n",
    "    ])\n",
    "    \n",
    "    return transform, test_transform"
   ]
  },
  {
   "cell_type": "markdown",
   "metadata": {},
   "source": [
    "### Dataset Class"
   ]
  },
  {
   "cell_type": "code",
   "execution_count": 17,
   "metadata": {},
   "outputs": [],
   "source": [
    "class Dataset(Dataset):\n",
    "    def __init__(self, X, Y, transform=None):\n",
    "        self.X = X\n",
    "        self.Y = Y\n",
    "        self.transform = transform\n",
    "    \n",
    "    def __len__(self):\n",
    "        return len(self.X)\n",
    "    \n",
    "    def __getitem__(self, idx):\n",
    "\n",
    "        x, y = self.X[idx], self.Y[idx]\n",
    "        x = torch.tensor(x).permute(2, 0, 1).float()\n",
    "        if self.transform:\n",
    "            x = self.transform(x)\n",
    "            \n",
    "        return x, torch.tensor(y, dtype=torch.long)"
   ]
  },
  {
   "cell_type": "markdown",
   "metadata": {},
   "source": [
    "# Data Pipeline"
   ]
  },
  {
   "cell_type": "code",
   "execution_count": null,
   "metadata": {},
   "outputs": [],
   "source": [
    "def data_pipeline(batch_size=32, transform_func=transformations):\n",
    "\n",
    "    train, test = load_data()\n",
    "\n",
    "    # Gathering Normalization Statistics\n",
    "    mu, stdev = RGB_stats(train.data)\n",
    "\n",
    "    # Splitting the Data\n",
    "    x_train, y_train, x_val, y_val = split_data(train)\n",
    "\n",
    "    # Transforming and Normalizing\n",
    "    train_transform, test_transform = transform_func(mu, stdev)\n",
    "\n",
    "    train_dataset = Dataset(x_train, y_train, transform=train_transform)\n",
    "    val_dataset = Dataset(x_val, y_val, transform=test_transform)\n",
    "    test_dataset = Dataset(test.data, test.targets, transform=test_transform)\n",
    "\n",
    "    # Creating Dataloaders\n",
    "    train_dataset, val_dataset, test_dataset = dataloaders(train_dataset, val_dataset, test_dataset, batch_size=batch_size)\n",
    "\n",
    "    return(train_dataset, val_dataset, test_dataset)"
   ]
  }
 ],
 "metadata": {
  "kernelspec": {
   "display_name": "myenv",
   "language": "python",
   "name": "python3"
  },
  "language_info": {
   "codemirror_mode": {
    "name": "ipython",
    "version": 3
   },
   "file_extension": ".py",
   "mimetype": "text/x-python",
   "name": "python",
   "nbconvert_exporter": "python",
   "pygments_lexer": "ipython3",
   "version": "3.12.6"
  }
 },
 "nbformat": 4,
 "nbformat_minor": 2
}
